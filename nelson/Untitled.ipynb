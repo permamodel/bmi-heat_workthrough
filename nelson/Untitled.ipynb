{
 "cells": [
  {
   "cell_type": "code",
   "execution_count": 13,
   "metadata": {
    "collapsed": false
   },
   "outputs": [
    {
     "name": "stdout",
     "output_type": "stream",
     "text": [
      "28.28944231\n"
     ]
    }
   ],
   "source": [
    "# Stefan Frost Number \n",
    "# Zf [scalar]: Stefan solution of frost penetration\n",
    "# lambda_f [scalar]: frozen soil thermal conductivity [W m-1 C-1]\n",
    "# T_ws [scalar]: mean winter temperature at the surface [C]\n",
    "# L_w [scalar]: duration of winter days\n",
    "# S [scalar]: minutes per day [s d-1]\n",
    "# rho_d [scalar]: dry density of the soil [kg m-3]\n",
    "# w_f [scalar]: soil's water content (proportion of dry weight)\n",
    "# L [scalar]: latent heat of fusion [J kg-1]\n",
    "\n",
    "import numpy as np\n",
    "\n",
    "# consts\n",
    "S=86400\n",
    "L=334*10**3\n",
    "# params internal\n",
    "lambda_f=2.1\n",
    "rho_d=0.5\n",
    "w_f=0.4\n",
    "# outside\n",
    "T_ws=-0.817999702858\n",
    "L_w=180.098068704\n",
    "\n",
    "Zf=np.sqrt(2*lambda_f*S*np.abs(T_ws)*L_w/(rho_d*w_f*L))\n",
    "print Zf"
   ]
  },
  {
   "cell_type": "code",
   "execution_count": 3,
   "metadata": {
    "collapsed": false
   },
   "outputs": [
    {
     "data": {
      "text/plain": [
       "1"
      ]
     },
     "execution_count": 3,
     "metadata": {},
     "output_type": "execute_result"
    }
   ],
   "source": [
    "np.abs(-1)"
   ]
  },
  {
   "cell_type": "code",
   "execution_count": null,
   "metadata": {
    "collapsed": true
   },
   "outputs": [],
   "source": []
  }
 ],
 "metadata": {
  "kernelspec": {
   "display_name": "Python 2",
   "language": "python",
   "name": "python2"
  },
  "language_info": {
   "codemirror_mode": {
    "name": "ipython",
    "version": 2
   },
   "file_extension": ".py",
   "mimetype": "text/x-python",
   "name": "python",
   "nbconvert_exporter": "python",
   "pygments_lexer": "ipython2",
   "version": "2.7.10"
  }
 },
 "nbformat": 4,
 "nbformat_minor": 0
}
