{
 "cells": [
  {
   "cell_type": "code",
   "execution_count": 53,
   "metadata": {
    "collapsed": false
   },
   "outputs": [
    {
     "name": "stdout",
     "output_type": "stream",
     "text": [
      "180.098068704\n",
      "156.183287702 147.320166686 0.971211509588 0.492697767268\n"
     ]
    }
   ],
   "source": [
    "# Air Frost Number (Nelson and Outcalt 1983)\n",
    "# temp [ndarray] :mean monthly air temperature\n",
    "# T [scalar]: mean annual air temperature\n",
    "# Tc, Th [scalar]: the mean temperatures of coldest and warmest months\n",
    "# A [scalar]: the mean annual temperature amplitude\n",
    "# beta [scalar]: frost angle\n",
    "# Ts, Tw [scalar]: the mean summer and winter temperatures \n",
    "# Ls, Lw [scalar]: the length of summer and winter temperatures \n",
    "# DDF, DDT [scalar]: are freezing and thawing indexes \n",
    "# F, Fa [scalar]: air frost number, Fa reduce to [0,1]\n",
    "import numpy as np\n",
    "\n",
    "temp=np.cos(np.linspace(0.0, 2*np.pi, 12))\n",
    "Th=max(temp)\n",
    "Tc=min(temp)\n",
    "T=(Th+Tc)/2\n",
    "A=(Th-Tc)/2\n",
    "beta=np.arccos(-T/A)\n",
    "Ts=T+A*np.sin(beta/beta)\n",
    "Tw=T-A*np.sin(beta/(np.pi-beta))\n",
    "Ls=365*(beta/np.pi)\n",
    "Lw=365-Ls\n",
    "print Lw\n",
    "DDT=Ts*Ls\n",
    "DDF=-Tw*Lw\n",
    "F=np.sqrt(DDF/DDT)\n",
    "Fa=np.sqrt(DDF)/(np.sqrt(DDT)+np.sqrt(DDF))\n",
    "print DDT,DDF,F,Fa\n"
   ]
  },
  {
   "cell_type": "code",
   "execution_count": null,
   "metadata": {
    "collapsed": true
   },
   "outputs": [],
   "source": []
  }
 ],
 "metadata": {
  "kernelspec": {
   "display_name": "Python 2",
   "language": "python",
   "name": "python2"
  },
  "language_info": {
   "codemirror_mode": {
    "name": "ipython",
    "version": 2
   },
   "file_extension": ".py",
   "mimetype": "text/x-python",
   "name": "python",
   "nbconvert_exporter": "python",
   "pygments_lexer": "ipython2",
   "version": "2.7.10"
  }
 },
 "nbformat": 4,
 "nbformat_minor": 0
}
