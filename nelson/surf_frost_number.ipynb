{
 "cells": [
  {
   "cell_type": "code",
   "execution_count": 3,
   "metadata": {
    "collapsed": false
   },
   "outputs": [
    {
     "name": "stdout",
     "output_type": "stream",
     "text": [
      "-0.817999702858\n",
      "156.183287702 147.320166685\n",
      "0.492697767268 147.320166685 156.183287702\n"
     ]
    }
   ],
   "source": [
    "# Calculates surface frost number\n",
    "# calculates the average winter snow thickness that weights snow fall by its duration\n",
    "# phi [scalar]: sites latitude\n",
    "# Zs [scalar]: an average winter snow thickness\n",
    "# P [array]: water equivalent precipitation\n",
    "# k [scalar]: number of winter months\n",
    "# rho_s [scalar]: density of snow [kg m-3]\n",
    "# lambda_s [scalar]: snow thermal conductivity [W m-1 C-1]\n",
    "# c_s [scalar]: snow specific heat capacity [J kg-1 C-1]\n",
    "# alpha_s [scalar]: thermal diffusivity of snow\n",
    "# Uw [scalar]: mean winter wind speed [m s-1]\n",
    "# A_s [scalar]: temperature amplitude at the surface with snow\n",
    "# Tws [scalar]: the mean winter surface temprature\n",
    "# DDFs [scalar]: freezing index at the surface\n",
    "# Ts [scalar]: mean annual tempratures at the surface\n",
    "# Fas [scalar] : surface frost number\n",
    "\n",
    "import numpy as np\n",
    "k=8\n",
    "phi=0.5\n",
    "Uw=0.1\n",
    "Tw=-0.817999702861\n",
    "A=0.979746486807\n",
    "T=0.0202535131928\n",
    "beta=1.59146999724\n",
    "Lw=180.098068704\n",
    "DDT=156.183287702\n",
    "P=np.sin(np.linspace(0, np.pi, k))\n",
    "\n",
    "rho_s=152-0.31*Tw+1.9*Uw\n",
    "S=0\n",
    "for i in range(0,k):\n",
    "    S=S+(P[i]*(k-(i-1)))/k\n",
    "Zs=((np.sin(phi))**2)*S    \n",
    "\n",
    "lambda_s=0.021+0.00042*rho_s+2.2*10**(-9)*rho_s**3\n",
    "c_s=7.79*Tw+2115\n",
    "alpha_s=lambda_s/(c_s*rho_s)\n",
    "\n",
    "Zss=np.sqrt(alpha_s*365/np.pi)\n",
    "A_s=A*np.exp(-Zs/Zss)\n",
    "\n",
    "Tws=T-A*np.sin(beta/(np.pi-beta))\n",
    "print Tws\n",
    "DDFs=-Tws*Lw # freezing index at teh surface\n",
    "T_s=(DDT-DDFs)/365\n",
    "print DDT,DDFs\n",
    "Fas=np.sqrt(DDFs)/(np.sqrt(DDT)+np.sqrt(DDFs))\n",
    "print Fas,DDFs,DDT"
   ]
  },
  {
   "cell_type": "code",
   "execution_count": 17,
   "metadata": {
    "collapsed": false
   },
   "outputs": [
    {
     "data": {
      "text/plain": [
       "0.00042"
      ]
     },
     "execution_count": 17,
     "metadata": {},
     "output_type": "execute_result"
    }
   ],
   "source": [
    "10**(-4)*4.2"
   ]
  },
  {
   "cell_type": "code",
   "execution_count": null,
   "metadata": {
    "collapsed": true
   },
   "outputs": [],
   "source": []
  }
 ],
 "metadata": {
  "kernelspec": {
   "display_name": "Python 2",
   "language": "python",
   "name": "python2"
  },
  "language_info": {
   "codemirror_mode": {
    "name": "ipython",
    "version": 2
   },
   "file_extension": ".py",
   "mimetype": "text/x-python",
   "name": "python",
   "nbconvert_exporter": "python",
   "pygments_lexer": "ipython2",
   "version": "2.7.10"
  }
 },
 "nbformat": 4,
 "nbformat_minor": 0
}
